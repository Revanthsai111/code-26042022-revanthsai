{
 "cells": [
  {
   "cell_type": "code",
   "execution_count": 8,
   "metadata": {
    "collapsed": true
   },
   "outputs": [],
   "source": [
    "import json\n",
    "import pandas as pd"
   ]
  },
  {
   "cell_type": "code",
   "execution_count": 7,
   "metadata": {
    "collapsed": true
   },
   "outputs": [],
   "source": [
    "x=['{\"Gender\": \"Male\", \"HeightCm\": 171, \"WeightKg\": 96 }',\n",
    "'{ \"Gender\": \"Male\", \"HeightCm\": 161, \"WeightKg\": 85 }',\n",
    "'{ \"Gender\": \"Male\", \"HeightCm\": 180, \"WeightKg\": 77 }',\n",
    "'{ \"Gender\": \"Female\", \"HeightCm\": 166, \"WeightKg\": 62}',\n",
    "'{\"Gender\": \"Female\", \"HeightCm\": 150, \"WeightKg\": 70}',\n",
    "'{\"Gender\": \"Female\", \"HeightCm\": 167, \"WeightKg\": 82}']"
   ]
  },
  {
   "cell_type": "code",
   "execution_count": 32,
   "metadata": {
    "collapsed": true
   },
   "outputs": [],
   "source": [
    "def calculate_BMI(weight,height):\n",
    "    ans=weight / ((height*0.01)**2)\n",
    "    return ans"
   ]
  },
  {
   "cell_type": "code",
   "execution_count": 37,
   "metadata": {
    "collapsed": false
   },
   "outputs": [],
   "source": [
    "data={\"Gender\":[],\"HeightCm\":[],\"WeightKg\":[],\"BMI\":[],\"BMI Category\":[],\"Health Risk\":[]}"
   ]
  },
  {
   "cell_type": "code",
   "execution_count": 38,
   "metadata": {
    "collapsed": true
   },
   "outputs": [],
   "source": [
    "data=pd.DataFrame(data)"
   ]
  },
  {
   "cell_type": "code",
   "execution_count": 56,
   "metadata": {
    "collapsed": false
   },
   "outputs": [],
   "source": [
    "for i in x:\n",
    "    i=json.loads(i)\n",
    "    w=i[\"WeightKg\"]\n",
    "    h=i[\"HeightCm\"]\n",
    "    BMI=calculate_BMI(w,h)\n",
    "    if BMI<=18.4:\n",
    "        BMI_Categry=\"Underweight\"\n",
    "        Health_Risk=\"Malnutrition Risk\"\n",
    "    elif BMI>=18.5 and BMI<=24.9:\n",
    "        BMI_Categry=\"Normal weight\"\n",
    "        Health_Risk=\"Low risk\"\n",
    "    elif BMI>25 and BMI<29.9:\n",
    "        BMI_Categry=\"Overweight\"\n",
    "        Health_Risk=\"Enhanced risk\"\n",
    "    elif BMI>30 and BMI<34.9:\n",
    "        BMI_Categry= \"Moderately obese\"\n",
    "        Health_Risk=\"Medium risk\"\n",
    "    elif BMI>35 and BMI<39.9:\n",
    "        BMI_Categry=\"Severely obese\"\n",
    "        Health_Risk=\"High risk\"\n",
    "    else:\n",
    "        BMI_Categry=\"Very severely obese\"\n",
    "        Health_Risk=\"Very high risk\"\n",
    "        \n",
    "    data.loc[len(data.index)]=[BMI,BMI_Categry,i[\"Gender\"],Health_Risk,h,w]"
   ]
  },
  {
   "cell_type": "code",
   "execution_count": 57,
   "metadata": {
    "collapsed": false
   },
   "outputs": [
    {
     "data": {
      "text/html": [
       "<div>\n",
       "<style scoped>\n",
       "    .dataframe tbody tr th:only-of-type {\n",
       "        vertical-align: middle;\n",
       "    }\n",
       "\n",
       "    .dataframe tbody tr th {\n",
       "        vertical-align: top;\n",
       "    }\n",
       "\n",
       "    .dataframe thead th {\n",
       "        text-align: right;\n",
       "    }\n",
       "</style>\n",
       "<table border=\"1\" class=\"dataframe\">\n",
       "  <thead>\n",
       "    <tr style=\"text-align: right;\">\n",
       "      <th></th>\n",
       "      <th>BMI</th>\n",
       "      <th>BMI Category</th>\n",
       "      <th>Gender</th>\n",
       "      <th>Health Risk</th>\n",
       "      <th>HeightCm</th>\n",
       "      <th>WeightKg</th>\n",
       "    </tr>\n",
       "  </thead>\n",
       "  <tbody>\n",
       "    <tr>\n",
       "      <th>0</th>\n",
       "      <td>32.830615</td>\n",
       "      <td>Moderately obese</td>\n",
       "      <td>Male</td>\n",
       "      <td>Medium risk</td>\n",
       "      <td>171.0</td>\n",
       "      <td>96.0</td>\n",
       "    </tr>\n",
       "    <tr>\n",
       "      <th>1</th>\n",
       "      <td>32.791945</td>\n",
       "      <td>Moderately obese</td>\n",
       "      <td>Male</td>\n",
       "      <td>Medium risk</td>\n",
       "      <td>161.0</td>\n",
       "      <td>85.0</td>\n",
       "    </tr>\n",
       "    <tr>\n",
       "      <th>2</th>\n",
       "      <td>23.765432</td>\n",
       "      <td>Normal weight</td>\n",
       "      <td>Male</td>\n",
       "      <td>Low risk</td>\n",
       "      <td>180.0</td>\n",
       "      <td>77.0</td>\n",
       "    </tr>\n",
       "    <tr>\n",
       "      <th>3</th>\n",
       "      <td>22.499637</td>\n",
       "      <td>Normal weight</td>\n",
       "      <td>Female</td>\n",
       "      <td>Low risk</td>\n",
       "      <td>166.0</td>\n",
       "      <td>62.0</td>\n",
       "    </tr>\n",
       "    <tr>\n",
       "      <th>4</th>\n",
       "      <td>31.111111</td>\n",
       "      <td>Moderately obese</td>\n",
       "      <td>Female</td>\n",
       "      <td>Medium risk</td>\n",
       "      <td>150.0</td>\n",
       "      <td>70.0</td>\n",
       "    </tr>\n",
       "    <tr>\n",
       "      <th>5</th>\n",
       "      <td>29.402273</td>\n",
       "      <td>Overweight</td>\n",
       "      <td>Female</td>\n",
       "      <td>Enhanced risk</td>\n",
       "      <td>167.0</td>\n",
       "      <td>82.0</td>\n",
       "    </tr>\n",
       "  </tbody>\n",
       "</table>\n",
       "</div>"
      ],
      "text/plain": [
       "         BMI      BMI Category  Gender    Health Risk  HeightCm  WeightKg\n",
       "0  32.830615  Moderately obese    Male    Medium risk     171.0      96.0\n",
       "1  32.791945  Moderately obese    Male    Medium risk     161.0      85.0\n",
       "2  23.765432     Normal weight    Male       Low risk     180.0      77.0\n",
       "3  22.499637     Normal weight  Female       Low risk     166.0      62.0\n",
       "4  31.111111  Moderately obese  Female    Medium risk     150.0      70.0\n",
       "5  29.402273        Overweight  Female  Enhanced risk     167.0      82.0"
      ]
     },
     "execution_count": 57,
     "metadata": {},
     "output_type": "execute_result"
    }
   ],
   "source": [
    "data"
   ]
  },
  {
   "cell_type": "code",
   "execution_count": 60,
   "metadata": {
    "collapsed": false
   },
   "outputs": [],
   "source": [
    "count_Overweight=0\n",
    "for i in data[\"BMI Category\"]:\n",
    "    if i==\"Overweight\":\n",
    "        count_Overweight+=1"
   ]
  },
  {
   "cell_type": "code",
   "execution_count": 61,
   "metadata": {
    "collapsed": false
   },
   "outputs": [
    {
     "data": {
      "text/plain": [
       "1"
      ]
     },
     "execution_count": 61,
     "metadata": {},
     "output_type": "execute_result"
    }
   ],
   "source": [
    "count_Overweight"
   ]
  },
  {
   "cell_type": "code",
   "execution_count": null,
   "metadata": {
    "collapsed": true
   },
   "outputs": [],
   "source": []
  }
 ],
 "metadata": {
  "kernelspec": {
   "display_name": "Python [conda env:Anaconda3]",
   "language": "python",
   "name": "conda-env-Anaconda3-py"
  },
  "language_info": {
   "codemirror_mode": {
    "name": "ipython",
    "version": 3
   },
   "file_extension": ".py",
   "mimetype": "text/x-python",
   "name": "python",
   "nbconvert_exporter": "python",
   "pygments_lexer": "ipython3",
   "version": "3.5.6"
  }
 },
 "nbformat": 4,
 "nbformat_minor": 1
}
